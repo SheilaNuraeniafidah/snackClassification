{
  "nbformat": 4,
  "nbformat_minor": 0,
  "metadata": {
    "colab": {
      "provenance": [],
      "gpuType": "T4"
    },
    "kernelspec": {
      "name": "python3",
      "display_name": "Python 3"
    },
    "language_info": {
      "name": "python"
    },
    "accelerator": "GPU"
  },
  "cells": [
    {
      "cell_type": "code",
      "execution_count": null,
      "metadata": {
        "id": "l5-XhkhKsAPZ"
      },
      "outputs": [],
      "source": [
        "import os\n",
        "import numpy as np\n",
        "from PIL import Image, ImageFilter, ImageEnhance\n",
        "from skimage import transform as tf\n",
        "import random\n",
        "from google.colab import drive"
      ]
    },
    {
      "cell_type": "code",
      "source": [
        "# Mount Google Drive\n",
        "drive.mount('/content/drive')\n",
        "\n",
        "# Path\n",
        "input_dir = \"/content/drive/MyDrive/data\"\n",
        "output_dir = \"/content/drive/MyDrive/data/dataset\""
      ],
      "metadata": {
        "colab": {
          "base_uri": "https://localhost:8080/"
        },
        "id": "dzYXJ6xrvwic",
        "outputId": "30b8d040-c337-45e2-d9db-6432b132c1c1"
      },
      "execution_count": null,
      "outputs": [
        {
          "output_type": "stream",
          "name": "stdout",
          "text": [
            "Drive already mounted at /content/drive; to attempt to forcibly remount, call drive.mount(\"/content/drive\", force_remount=True).\n"
          ]
        }
      ]
    },
    {
      "cell_type": "code",
      "source": [
        "classes = [\"waffle\", \"beng-beng\", \"top\", \"blastoz\", \"kalpa\"]\n",
        "sample = 500  # total augmentasi\n",
        "\n",
        "# folder output\n",
        "os.makedirs(output_dir, exist_ok=True)"
      ],
      "metadata": {
        "id": "USgABCIWx3Pc"
      },
      "execution_count": null,
      "outputs": []
    },
    {
      "cell_type": "code",
      "source": [
        "# Fungsiaugmentasi\n",
        "def augmented_image(image_path, output_path, class_name, img_num):\n",
        "    try:\n",
        "        img = Image.open(image_path).convert(\"RGB\")\n",
        "\n",
        "        # rotate\n",
        "        angle = random.uniform(-25, 25)\n",
        "        img = img.rotate(angle)\n",
        "\n",
        "        # flip\n",
        "        if random.random() > 0.5:\n",
        "            img = img.transpose(Image.FLIP_LEFT_RIGHT)\n",
        "        if random.random() > 0.8:\n",
        "            img = img.transpose(Image.FLIP_TOP_BOTTOM)\n",
        "\n",
        "        # zoom\n",
        "        zoom = random.uniform(0.8, 1.2)\n",
        "        img = img.resize((int(img.width * zoom), int(img.height * zoom)))\n",
        "\n",
        "        # shift\n",
        "        shift_x, shift_y = random.randint(-30, 30), random.randint(-30, 30)\n",
        "        img = img.transform((img.width, img.height), Image.AFFINE, (1, 0, shift_x, 0, 1, shift_y))\n",
        "\n",
        "        # blur\n",
        "        if random.random() > 0.7:\n",
        "            img = img.filter(ImageFilter.GaussianBlur(random.uniform(0.5, 1.5)))\n",
        "\n",
        "        # brightness\n",
        "        enhancer = ImageEnhance.Brightness(img)\n",
        "        img = enhancer.enhance(random.uniform(0.7, 1.3))\n",
        "\n",
        "        # contrast\n",
        "        enhancer = ImageEnhance.Contrast(img)\n",
        "        img = enhancer.enhance(random.uniform(0.7, 1.3))\n",
        "\n",
        "        # crop\n",
        "        if random.random() > 0.5:\n",
        "            w, h = img.size\n",
        "            left = random.randint(0, int(w * 0.2))\n",
        "            upper = random.randint(0, int(h * 0.2))\n",
        "            right = w - random.randint(0, int(w * 0.2))\n",
        "            lower = h - random.randint(0, int(h * 0.2))\n",
        "            img = img.crop((left, upper, right, lower))\n",
        "    # save\n",
        "        img.save(os.path.join(output_path, f\"{class_name}_{img_num}.jpg\"))\n",
        "    except Exception as e:\n",
        "        print(f\"Error processing {image_path}: {e}\")"
      ],
      "metadata": {
        "id": "Tt1dMXc26627"
      },
      "execution_count": null,
      "outputs": []
    },
    {
      "cell_type": "code",
      "source": [
        "# Loop\n",
        "for class_name in classes:\n",
        "    class_input_path = os.path.join(input_dir, class_name)\n",
        "    class_output_path = os.path.join(output_dir, class_name)\n",
        "    os.makedirs(class_output_path, exist_ok=True)\n",
        "\n",
        "    # Process\n",
        "    for filename in os.listdir(class_input_path):\n",
        "        if filename.lower().endswith(('.jpg', '.jpeg', '.png')):\n",
        "            image_path = os.path.join(class_input_path, filename)\n",
        "\n",
        "            # augmentasi\n",
        "            for i in range(sample):\n",
        "                augmented_image(image_path, class_output_path, class_name, f\"{filename.split('.')[0]}_{i}\")"
      ],
      "metadata": {
        "id": "lV0N1oSK7CMv"
      },
      "execution_count": null,
      "outputs": []
    }
  ]
}